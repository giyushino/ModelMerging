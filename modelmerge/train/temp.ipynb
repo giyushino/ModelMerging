{
 "cells": [
  {
   "cell_type": "code",
   "execution_count": 1,
   "id": "70db0b37",
   "metadata": {},
   "outputs": [
    {
     "name": "stderr",
     "output_type": "stream",
     "text": [
      "/home/allanz/miniconda3/envs/modelmerge/lib/python3.12/site-packages/tqdm/auto.py:21: TqdmWarning: IProgress not found. Please update jupyter and ipywidgets. See https://ipywidgets.readthedocs.io/en/stable/user_install.html\n",
      "  from .autonotebook import tqdm as notebook_tqdm\n",
      "Generating train split: 100%|██████████| 1000/1000 [00:00<00:00, 170514.03 examples/s]\n"
     ]
    }
   ],
   "source": [
    "from datasets import load_dataset\n",
    "\n",
    "dataset = load_dataset(\"sunyiyou/math_algebra_polynomial_roots_7B_train\")"
   ]
  },
  {
   "cell_type": "code",
   "execution_count": 14,
   "id": "ec7f760b",
   "metadata": {},
   "outputs": [
    {
     "data": {
      "text/plain": [
       "'Let w(m) be the third derivative of -91*m**6/4 + 817*m**5/20 + 627*m**4/8 + 45*m**3 + 11*m**2 - 6. Suppose w(o) = 0. Express the second largest root as n/m where n and m are coprime and return n + m.\\n\\nPresent the answer in LaTex format: \\\\boxed{Your answer}'"
      ]
     },
     "execution_count": 14,
     "metadata": {},
     "output_type": "execute_result"
    }
   ],
   "source": [
    "dataset[\"train\"][\"messages\"][1][0][\"content\"]"
   ]
  },
  {
   "cell_type": "code",
   "execution_count": 16,
   "id": "995be10c",
   "metadata": {},
   "outputs": [
    {
     "data": {
      "text/plain": [
       "[{'content': 'Let w(m) be the third derivative of -91*m**6/4 + 817*m**5/20 + 627*m**4/8 + 45*m**3 + 11*m**2 - 6. Suppose w(o) = 0. Express the second largest root as n/m where n and m are coprime and return n + m.\\n\\nPresent the answer in LaTex format: \\\\boxed{Your answer}',\n",
       "  'role': 'user'}]"
      ]
     },
     "execution_count": 16,
     "metadata": {},
     "output_type": "execute_result"
    }
   ],
   "source": [
    "dataset[\"train\"][\"messages\"][1]"
   ]
  },
  {
   "cell_type": "code",
   "execution_count": null,
   "id": "aa0d2077",
   "metadata": {},
   "outputs": [],
   "source": []
  }
 ],
 "metadata": {
  "kernelspec": {
   "display_name": "modelmerge",
   "language": "python",
   "name": "python3"
  },
  "language_info": {
   "codemirror_mode": {
    "name": "ipython",
    "version": 3
   },
   "file_extension": ".py",
   "mimetype": "text/x-python",
   "name": "python",
   "nbconvert_exporter": "python",
   "pygments_lexer": "ipython3",
   "version": "3.12.0"
  }
 },
 "nbformat": 4,
 "nbformat_minor": 5
}
